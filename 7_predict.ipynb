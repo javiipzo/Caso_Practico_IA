{
 "cells": [
  {
   "cell_type": "code",
   "execution_count": 2,
   "id": "2d9c76d2-faa1-4467-af89-7ee12196bfbe",
   "metadata": {},
   "outputs": [],
   "source": [
    "from torchvision import transforms\n",
    "import torchvision\n",
    "import torch\n",
    "import torch.nn as nn\n",
    "import glob\n",
    "import cv2\n",
    "import numpy as np\n",
    "from numpy import argmax\n",
    "#!pip install pymongo\n",
    "from pymongo import MongoClient\n",
    "from PIL import Image\n",
    "\n",
    "try:\n",
    "\t# Conectar a la db, host y puerto\n",
    "\tconn = MongoClient(host='localhost', port=27017)\n",
    "\t# Obtener base de datos\n",
    "\tdb = conn.local\n",
    "except:\n",
    "\tpass"
   ]
  },
  {
   "cell_type": "code",
   "execution_count": 3,
   "id": "cd705c5b-03e4-4995-b649-0471b7bfbcdd",
   "metadata": {},
   "outputs": [],
   "source": [
    "\n",
    "# Definir modelo\n",
    "class scratch_nn(nn.Module):\n",
    "    def __init__(self):\n",
    "        super().__init__()\n",
    "        self.conv1 = nn.Conv2d(in_channels=3, out_channels=100, kernel_size=5, stride=1, padding=0)\n",
    "        self.conv2 = nn.Conv2d(100, 200, 3, stride=1, padding=0)\n",
    "        self.conv3 = nn.Conv2d(200, 400, 3, stride=1, padding=0)\n",
    "        self.mpool = nn.MaxPool2d(kernel_size=3)\n",
    "        self.relu = nn.ReLU()\n",
    "        self.linear1 = nn.Linear(19600,1024)\n",
    "        self.linear2 = nn.Linear(1024,512)\n",
    "        self.linear3 = nn.Linear(512,2)\n",
    "        self.classifier = nn.Softmax(dim=1)\n",
    "        \n",
    "    def forward(self,x):\n",
    "        x = self.mpool( self.relu(self.conv1(x)) )\n",
    "        x = self.mpool( self.relu(self.conv2(x)) )\n",
    "        x = self.mpool( self.relu(self.conv3(x)) )\n",
    "        x = torch.flatten(x, start_dim=1)\n",
    "        x = self.linear1(x)\n",
    "        x = self.linear2(x)\n",
    "        x = self.linear3(x)\n",
    "        x = self.classifier(x)\n",
    "        return x\n",
    "\n",
    "# Cargar modelo entrenado\n",
    "device = torch.device(\"cuda\" if torch.cuda.is_available() else \"cpu\")\n",
    "model = scratch_nn()\n",
    "model.load_state_dict(torch.load(\"dogs_cats_model.pth\"))\n",
    "model.eval()\n",
    "model = model.to(device)\n",
    "\n",
    "# Definir preprocesados de la imagen\n",
    "data_transform = transforms.Compose([\n",
    "    transforms.ToTensor(),\n",
    "    transforms.Resize((224, 224)),\n",
    "])"
   ]
  },
  {
   "attachments": {},
   "cell_type": "markdown",
   "id": "c13de9b5",
   "metadata": {},
   "source": [
    "EN EL SIGUIENTE PASO, DARLE AL 0 PARA AVANZAR DE IMAGEN."
   ]
  },
  {
   "cell_type": "code",
   "execution_count": 5,
   "id": "b1ca3123-76b9-4f8f-859e-681c2e4fa748",
   "metadata": {},
   "outputs": [
    {
     "name": "stdout",
     "output_type": "stream",
     "text": [
      "Predicted label: Cat\n"
     ]
    }
   ],
   "source": [
    "# Realizar la prediccion de todas las imagenes en la carpeta\n",
    "labels = [\"Cat\", \"Dog\"]\n",
    "for image_path in glob.glob(\"predict_cat_dog/*.jpg\"):\n",
    "\timg_orig = np.array(Image.open(image_path))\n",
    "\timg = data_transform(img_orig).unsqueeze(0).to(device)\n",
    "\toutputs = model(img)\n",
    "\toutputs = outputs.detach().cpu().numpy()\n",
    "\toutput = argmax(outputs, axis=1)[0]\n",
    "\tprint(\"Predicted label: \"+labels[output])\n",
    "\tcv2.imshow(\"Predicted label: \"+labels[output], img_orig)\n",
    "\tcv2.waitKey(0)\n",
    "\tcv2.destroyAllWindows()\n",
    "\t# Almacenar en base de datos\n",
    "\t\n",
    "\ttry:\n",
    "\t\tdb.data.insert_one({\"path_img\": image_path, \"predicted_label\": labels[output]})\n",
    "\texcept:\n",
    "\t\tpass\n",
    "\t\t"
   ]
  },
  {
   "cell_type": "code",
   "execution_count": null,
   "id": "1b540f39-e1d9-4c5b-8706-fee2de0d4e7c",
   "metadata": {},
   "outputs": [],
   "source": []
  }
 ],
 "metadata": {
  "kernelspec": {
   "display_name": "Python 3 (ipykernel)",
   "language": "python",
   "name": "python3"
  },
  "language_info": {
   "codemirror_mode": {
    "name": "ipython",
    "version": 3
   },
   "file_extension": ".py",
   "mimetype": "text/x-python",
   "name": "python",
   "nbconvert_exporter": "python",
   "pygments_lexer": "ipython3",
   "version": "3.9.12"
  }
 },
 "nbformat": 4,
 "nbformat_minor": 5
}
